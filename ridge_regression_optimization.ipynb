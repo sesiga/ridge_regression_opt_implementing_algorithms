{
 "cells": [
  {
   "cell_type": "code",
   "execution_count": 1,
   "metadata": {},
   "outputs": [],
   "source": [
    "%matplotlib notebook\n",
    "import numpy as np\n",
    "import time\n",
    "from scipy.optimize import minimize"
   ]
  },
  {
   "cell_type": "markdown",
   "metadata": {},
   "source": [
    "### Introduction\n",
    "\n",
    "In this assingment we will use different technique to solve an optimization problem. In particular, we use ridge regression under a least-squares approach. For that, we need to generate the dataset that contains 50000 observations and 1000 variables. The observations are uniformly distributed in the range of 0 to 10. The coefficients are also uniformly distributed between -2 and 2. Finally, the error term of the least-squares model is normally distributed with mean 0 and standard deviation 1. The response variable is generated from the previous data:\n",
    "\n",
    "$$Y = X \\beta + \\epsilon$$"
   ]
  },
  {
   "cell_type": "code",
   "execution_count": 2,
   "metadata": {},
   "outputs": [],
   "source": [
    "#number of observation and variables\n",
    "nvar = 1000\n",
    "nobs = 50000\n",
    "\n",
    "#set seed for reproducibility purposes\n",
    "np.random.seed(1)\n",
    "\n",
    "#generates dataset\n",
    "x0 = np.ones((nobs,1))\n",
    "x1 = np.random.uniform(low=0, high=10, size=(nobs,nvar))\n",
    "x = np.concatenate((x0,x1), axis=1)\n",
    "beta = np.random.uniform(low=-2, high=2, size=(nvar+1,1))\n",
    "eps = np.random.normal(loc=0, scale=1, size=(nobs,1))\n",
    "y = np.dot(x,beta) + eps"
   ]
  },
  {
   "cell_type": "markdown",
   "metadata": {},
   "source": [
    "The ridge regression problem is formulated as an optimization problem without constraints as:\n",
    "\n",
    "$$\\min_\\beta \\| Y-X \\beta \\|_{2}^{2} + \\rho \\| \\beta \\|_{2}^{2}$$"
   ]
  },
  {
   "cell_type": "markdown",
   "metadata": {},
   "source": [
    "where the second term is added for the shake of reducing the variance of the coefficients when the problem suffers from collinearity. \n",
    "\n",
    "### Part a\n",
    "\n",
    "The analytical solution of the problem is:\n",
    "\n",
    "$$\\hat{\\beta}=\\left(X^{\\prime} X+\\rho I\\right)^{-1}X^{\\prime} Y$$\n",
    "\n",
    "We can compute it as follows, setting the regularization paramter to $\\rho = 1000$:"
   ]
  },
  {
   "cell_type": "code",
   "execution_count": 3,
   "metadata": {},
   "outputs": [],
   "source": [
    "rho = 1000\n",
    "\n",
    "beta_a = np.dot( np.dot( np.linalg.inv( np.dot(x.T,x) + rho*np.eye(nvar+1)), x.T), y)"
   ]
  },
  {
   "cell_type": "markdown",
   "metadata": {},
   "source": [
    "We will use these values as a benchmark and we will compare them with the result of other methods.\n",
    "\n",
    "### Part b\n",
    "\n",
    "To approach the problem as an optimization problem we need to implement the function to minimize and its derivates:"
   ]
  },
  {
   "cell_type": "code",
   "execution_count": 4,
   "metadata": {},
   "outputs": [],
   "source": [
    "#objective function. ridge regression\n",
    "def ridge_regression_of(beta,x,y,rho):\n",
    "    beta = np.reshape(beta, newshape=(len(beta),1)) #reshape so beta is a matrix instead of a vector\n",
    "    z = y - np.dot(x,beta)\n",
    "    of_value = np.dot(z.T,z) + rho*np.dot(beta.T,beta)\n",
    "    return of_value\n",
    "\n",
    "#gradient of the objective function. ridge regression\n",
    "def ridge_regression_grad_of(beta,x,y,rho):\n",
    "    beta = np.reshape(beta, newshape=(len(beta),1))\n",
    "    grad = -2. * np.dot( (y - np.dot(x,beta)).T, x) + 2.*rho*beta.T\n",
    "    return np.squeeze(grad)\n",
    "\n",
    "#hessian matrix of the objective function. ridge regression\n",
    "def ridge_regression_hess_of(beta,x,y,rho):\n",
    "    beta = np.reshape(beta, newshape=(len(beta),1))\n",
    "    hess = 2. * np.dot(x.T,x) + 2. * rho\n",
    "    return hess"
   ]
  },
  {
   "cell_type": "markdown",
   "metadata": {},
   "source": [
    "The coefficients can be estimated using *Scipy* package and *minimize* function. It implements different methods to approach the problem. We are going to use *Nelder-Mead*, *BFGS*, *L-BFGS-B*, *CG* and *Newton CG*:"
   ]
  },
  {
   "cell_type": "code",
   "execution_count": 5,
   "metadata": {},
   "outputs": [],
   "source": [
    "#initial value for beta\n",
    "beta_init = np.zeros(nvar+1)"
   ]
  },
  {
   "cell_type": "code",
   "execution_count": 6,
   "metadata": {},
   "outputs": [
    {
     "name": "stdout",
     "output_type": "stream",
     "text": [
      "Warning: Desired error not necessarily achieved due to precision loss.\n",
      "         Current function value: 1280463.797536\n",
      "         Iterations: 22\n",
      "         Function evaluations: 54\n",
      "         Gradient evaluations: 53\n"
     ]
    }
   ],
   "source": [
    "#conjugate gradient\n",
    "time_start = time.process_time()\n",
    "beta_scipy_cg = minimize(ridge_regression_of, beta_init, args=(x,y,rho), method='CG', jac=ridge_regression_grad_of, options={'disp': True})\n",
    "time_scipy_cg = time.process_time() - time_start"
   ]
  },
  {
   "cell_type": "code",
   "execution_count": 7,
   "metadata": {},
   "outputs": [
    {
     "name": "stdout",
     "output_type": "stream",
     "text": [
      "Optimization terminated successfully.\n",
      "         Current function value: 1280464.119392\n",
      "         Iterations: 10\n",
      "         Function evaluations: 11\n",
      "         Gradient evaluations: 20\n",
      "         Hessian evaluations: 10\n"
     ]
    }
   ],
   "source": [
    "#newton conjugate gradient\n",
    "time_start = time.process_time()\n",
    "beta_scipy_newtoncg = minimize(ridge_regression_of, beta_init, args=(x,y,rho), method='Newton-CG', jac=ridge_regression_grad_of, hess=ridge_regression_hess_of, options={'disp':True})\n",
    "time_scipy_newtoncg = time.process_time() - time_start"
   ]
  },
  {
   "cell_type": "code",
   "execution_count": 8,
   "metadata": {},
   "outputs": [
    {
     "name": "stdout",
     "output_type": "stream",
     "text": [
      "Warning: Desired error not necessarily achieved due to precision loss.\n",
      "         Current function value: 1280463.797549\n",
      "         Iterations: 346\n",
      "         Function evaluations: 736\n",
      "         Gradient evaluations: 735\n"
     ]
    }
   ],
   "source": [
    "#bfgs\n",
    "time_start = time.process_time()\n",
    "beta_scipy_bfgs = minimize(ridge_regression_of, beta_init, args=(x,y,rho), method='BFGS', jac=ridge_regression_grad_of, options={'disp': True})\n",
    "time_scipy_bfgs = time.process_time() - time_start"
   ]
  },
  {
   "cell_type": "code",
   "execution_count": 9,
   "metadata": {},
   "outputs": [
    {
     "data": {
      "text/plain": [
       "      fun: array([[1280464.12378359]])\n",
       " hess_inv: <1001x1001 LbfgsInvHessProduct with dtype=float64>\n",
       "      jac: array([-35.94738328,  -4.68501833,   2.12111097, ...,   0.42248703,\n",
       "         2.14578832,  -1.42922489])\n",
       "  message: b'CONVERGENCE: REL_REDUCTION_OF_F_<=_FACTR*EPSMCH'\n",
       "     nfev: 50\n",
       "      nit: 42\n",
       "   status: 0\n",
       "  success: True\n",
       "        x: array([ 0.0084759 ,  1.04448654,  0.04139102, ..., -0.65265345,\n",
       "       -1.18572373, -1.46697377])"
      ]
     },
     "execution_count": 9,
     "metadata": {},
     "output_type": "execute_result"
    }
   ],
   "source": [
    "#l-bfgs\n",
    "time_start = time.process_time()\n",
    "beta_scipy_lbfgs = minimize(ridge_regression_of, beta_init, args=(x,y,rho), method='L-BFGS-B', jac=ridge_regression_grad_of, options={'disp': True})\n",
    "time_scipy_lbfgs = time.process_time() - time_start\n",
    "beta_scipy_lbfgs"
   ]
  },
  {
   "cell_type": "markdown",
   "metadata": {},
   "source": [
    "We can see that all the solvers have achieve almost the same value of the loss function. However, they have achieved it with a different number of iterations and evaluations of the functions. The regularization parameter is set to $\\rho = 1000$ for all the methods.\n",
    "\n",
    "**Iterations**: the method with the lowest number of iterations is Newton-CG with only 10 iterations. This is because it converges very fast and it only needs a few iterations, since the method uses a descent direction that minimizes a quadratic approximation of the objective function. It is followed by CG with 22 iterations which uses a linear approximation instead of quadratic, making it a method that requires more iterations to converge to the optimal solution. L-BFGS has carried out 42 iterations and finally BFGS 346 iterations.\n",
    "\n",
    "**Function evaluations**: again Newton-CG is the method with the lowest number of function evaluations with 11, CG has carried out 54 evaluations and BFGS 736. This is due to the fact that BFGS uses an approximation of the hessian matrix with the objective function and the gradient. Thus, it requires a lot more function and gradient evaluations but it is cheaper than Newton-CG.\n",
    "\n",
    "**Gradient evaluation**: the analysis and results are the same as for the objective function.\n",
    "\n",
    "**Execution time**: below we can see that the computational time varies vastly with the method used. L-BGFS and CG are far the more effiecient ones for our case. In the case of L-BGFS, it a variant of BGFS that uses less memory. Our problem has a lot of variables and observations, so in this case this algorithm performs very well regarding the computational time. CG is also very fast because it does not use the hessian, saving a lot of operations during each iteration. That is the reason for CG beeing faster than Newton-CG, although Newton-CG has done less iterations. Finally, BFGS is the slowest one, with a lot of calls to the functions."
   ]
  },
  {
   "cell_type": "code",
   "execution_count": 10,
   "metadata": {},
   "outputs": [
    {
     "name": "stdout",
     "output_type": "stream",
     "text": [
      "time of execution of CG: 12.859\n",
      "time of execution of Newton-CG: 26.953\n",
      "time of execution of BFGS: 284.625\n",
      "time of execution of L-BFGS: 12.156\n"
     ]
    }
   ],
   "source": [
    "print('time of execution of CG: {:.3f}'.format(time_scipy_cg))\n",
    "print('time of execution of Newton-CG: {:.3f}'.format(time_scipy_newtoncg))\n",
    "print('time of execution of BFGS: {:.3f}'.format(time_scipy_bfgs))\n",
    "print('time of execution of L-BFGS: {:.3f}'.format(time_scipy_lbfgs))"
   ]
  },
  {
   "cell_type": "markdown",
   "metadata": {},
   "source": [
    "Regarding the coefficients, we can print the first 5 coefficients of each method and compare them"
   ]
  },
  {
   "cell_type": "code",
   "execution_count": 11,
   "metadata": {},
   "outputs": [
    {
     "name": "stdout",
     "output_type": "stream",
     "text": [
      "beta_0: benchmark = 0.026, CG = 0.026, Newton-CG = 0.008, BFGS = 0.026, L-BFGS = 0.008\n",
      "beta_1: benchmark = 1.044, CG = 1.044, Newton-CG = 1.044, BFGS = 1.044, L-BFGS = 1.044\n",
      "beta_2: benchmark = 0.041, CG = 0.041, Newton-CG = 0.041, BFGS = 0.041, L-BFGS = 0.041\n",
      "beta_3: benchmark = -0.131, CG = -0.131, Newton-CG = -0.131, BFGS = -0.131, L-BFGS = -0.131\n",
      "beta_4: benchmark = 1.554, CG = 1.554, Newton-CG = 1.554, BFGS = 1.554, L-BFGS = 1.554\n"
     ]
    }
   ],
   "source": [
    "for i in range(5):\n",
    "    print('beta_{}: benchmark = {:.3f}, CG = {:.3f}, Newton-CG = {:.3f}, BFGS = {:.3f}, L-BFGS = {:.3f}'.format(i,beta_a[i][0], beta_scipy_cg.x[i], beta_scipy_newtoncg.x[i], beta_scipy_bfgs.x[i], beta_scipy_lbfgs.x[i]))"
   ]
  },
  {
   "cell_type": "markdown",
   "metadata": {},
   "source": [
    "The only coefficient that is slightly different is *beta_0* and only with the methods *Newton-CG* and *L-BFGS*. The rest seem to be exactly the same. Finally, we can compute the root mean sqaure error of the coefficients using the values of the analytical solution as the benchmark to compare with, and check is the previous assumption is true. Below we can see that all the methods have almost no errors in their coefficients."
   ]
  },
  {
   "cell_type": "code",
   "execution_count": 12,
   "metadata": {},
   "outputs": [
    {
     "name": "stdout",
     "output_type": "stream",
     "text": [
      "RMSE of CG: 0.000\n",
      "RMSE of Newton-CG: 0.001\n",
      "RMSE of BFGS: 0.000\n",
      "RMSE of L-BFGS: 0.001\n"
     ]
    }
   ],
   "source": [
    "print('RMSE of CG: {:.3f}'.format(np.sqrt(np.mean((beta_a.T - beta_scipy_cg.x)**2))))\n",
    "print('RMSE of Newton-CG: {:.3f}'.format(np.sqrt(np.mean((beta_a.T - beta_scipy_newtoncg.x)**2))))\n",
    "print('RMSE of BFGS: {:.3f}'.format(np.sqrt(np.mean((beta_a.T - beta_scipy_bfgs.x)**2))))\n",
    "print('RMSE of L-BFGS: {:.3f}'.format(np.sqrt(np.mean((beta_a.T - beta_scipy_lbfgs.x)**2))))"
   ]
  },
  {
   "cell_type": "markdown",
   "metadata": {},
   "source": [
    "### Part c\n",
    "\n",
    "Now we will add bounds to the value of the coefficients. Since they have been sampled between -2 and 2, we will limit their value between -1.5 and 1.5. *L-BFGS-B* and *TCN* are the algorithms chosen to solve the problem."
   ]
  },
  {
   "cell_type": "code",
   "execution_count": 13,
   "metadata": {},
   "outputs": [
    {
     "data": {
      "text/plain": [
       "      fun: array([[8157635.15015978]])\n",
       " hess_inv: <1001x1001 LbfgsInvHessProduct with dtype=float64>\n",
       "      jac: array([-130.08323519, -496.49577492, -584.9019442 , ..., -568.32343675,\n",
       "       -539.42921166, -590.44772503])\n",
       "  message: b'CONVERGENCE: REL_REDUCTION_OF_F_<=_FACTR*EPSMCH'\n",
       "     nfev: 136\n",
       "      nit: 111\n",
       "   status: 0\n",
       "  success: True\n",
       "        x: array([ 0.64159278,  1.0369088 ,  0.05088421, ..., -0.63201959,\n",
       "       -1.17001186, -1.44600848])"
      ]
     },
     "execution_count": 13,
     "metadata": {},
     "output_type": "execute_result"
    }
   ],
   "source": [
    "#setting bounds\n",
    "bnds = []\n",
    "for _ in range(nvar+1):\n",
    "    bnds.append([-1.5,1.5])\n",
    "\n",
    "#l-bfgs-b\n",
    "time_start = time.process_time()\n",
    "beta_scipy_lbfgsb = minimize(ridge_regression_of, beta_init, args=(x,y,rho), method='L-BFGS-B', jac=ridge_regression_grad_of, bounds=bnds, options={'disp': True})\n",
    "time_scipy_lbfgsb = time.process_time() - time_start\n",
    "beta_scipy_lbfgsb"
   ]
  },
  {
   "cell_type": "code",
   "execution_count": 14,
   "metadata": {},
   "outputs": [
    {
     "data": {
      "text/plain": [
       "     fun: array([[8157634.13965719]])\n",
       "     jac: array([-0.00928893, -0.04231505, -0.0433899 , ..., -0.04464799,\n",
       "       -0.04398121, -0.04751973])\n",
       " message: 'Converged (|f_n-f_(n-1)| ~= 0)'\n",
       "    nfev: 705\n",
       "     nit: 222\n",
       "  status: 1\n",
       " success: True\n",
       "       x: array([ 0.6502029 ,  1.03683718,  0.05090945, ..., -0.63200902,\n",
       "       -1.1700499 , -1.44597426])"
      ]
     },
     "execution_count": 14,
     "metadata": {},
     "output_type": "execute_result"
    }
   ],
   "source": [
    "#tnc\n",
    "time_start = time.process_time()\n",
    "beta_scipy_tcn = minimize(ridge_regression_of, beta_init, args=(x,y,rho), method='TNC', jac=ridge_regression_grad_of, bounds=bnds, options={'disp': True})\n",
    "time_scipy_tcn = time.process_time() - time_start\n",
    "beta_scipy_tcn"
   ]
  },
  {
   "cell_type": "markdown",
   "metadata": {},
   "source": [
    "The inclusion of the bounds makes the value of the function larger than the optimal (when coefficients can take their optimal values). Previously the optimal value of the loss function was around 1280463 and now it is around 8157635 which is 6 times larger. This has also an effect on the coefficients. Let's print the first 5 coefficients of the three methods:"
   ]
  },
  {
   "cell_type": "code",
   "execution_count": 15,
   "metadata": {},
   "outputs": [
    {
     "name": "stdout",
     "output_type": "stream",
     "text": [
      "beta_0: benchmark = 0.026, L-BFGS-B = 0.642, TCN = 0.650\n",
      "beta_1: benchmark = 1.044, L-BFGS-B = 1.037, TCN = 1.037\n",
      "beta_2: benchmark = 0.041, L-BFGS-B = 0.051, TCN = 0.051\n",
      "beta_3: benchmark = -0.131, L-BFGS-B = -0.084, TCN = -0.084\n",
      "beta_4: benchmark = 1.554, L-BFGS-B = 1.500, TCN = 1.500\n"
     ]
    }
   ],
   "source": [
    "for i in range(5):\n",
    "    print('beta_{}: benchmark = {:.3f}, L-BFGS-B = {:.3f}, TCN = {:.3f}'.format(i,beta_a[i][0], beta_scipy_lbfgsb.x[i], beta_scipy_tcn.x[i]))"
   ]
  },
  {
   "cell_type": "markdown",
   "metadata": {},
   "source": [
    "The coefficient *beta 0* differs quite when bounds are added with respect to the benchmark. The rest of the coefficients remain very close to their benchmark associates when the analytical value is in the range -1.5 to 1.5. That is, when a coefficient is outside the interval it is truncated by the bound to the maximum or the minimum value as we can see with *beta_4*. The change in all these coefficients is what makes the intercept to be different. Finally, comparing the RMSE we have that the RMSE of the methods with bounded coefficients have a larger error, which actually makes sense since unbounded methods yielded exactly the true coefficients and now they are restricted."
   ]
  },
  {
   "cell_type": "code",
   "execution_count": 16,
   "metadata": {},
   "outputs": [
    {
     "name": "stdout",
     "output_type": "stream",
     "text": [
      "RMSE of CG: 0.000\n",
      "RMSE of L-BFGS-B: 0.132\n",
      "RMSE of TCN: 0.132\n"
     ]
    }
   ],
   "source": [
    "print('RMSE of CG: {:.3f}'.format(np.sqrt(np.mean((beta_a.T - beta_scipy_cg.x)**2))))\n",
    "print('RMSE of L-BFGS-B: {:.3f}'.format(np.sqrt(np.mean((beta_a.T - beta_scipy_lbfgsb.x)**2))))\n",
    "print('RMSE of TCN: {:.3f}'.format(np.sqrt(np.mean((beta_a.T - beta_scipy_tcn.x)**2))))"
   ]
  },
  {
   "cell_type": "markdown",
   "metadata": {},
   "source": [
    "Comparing the execution time we can see that *L-BFGS-B* is way faster than *TNC*. However, *L-BFGS-B* is lower when bounds are added with respect to the previous one without bounds."
   ]
  },
  {
   "cell_type": "code",
   "execution_count": 17,
   "metadata": {},
   "outputs": [
    {
     "name": "stdout",
     "output_type": "stream",
     "text": [
      "time of execution of L-BFGS-B: 33.859\n",
      "time of execution of TCN: 168.500\n"
     ]
    }
   ],
   "source": [
    "print('time of execution of L-BFGS-B: {:.3f}'.format(time_scipy_lbfgsb))\n",
    "print('time of execution of TCN: {:.3f}'.format(time_scipy_tcn))"
   ]
  },
  {
   "cell_type": "markdown",
   "metadata": {},
   "source": [
    "### Part d\n",
    "\n",
    "We will implement and run the Gradient method, Newton method and Quasi-Newton method and then we will compare them. To do that we set some parameters so they compete with the same rules. The stopping criteria is set as the percentage of change of the objective function between one iteration and the previous one and is set to $\\epsilon = 10^{-3}$. The maximun number of iterations allowed is 1000 and the regularization parameter is $\\rho = 1000$."
   ]
  },
  {
   "cell_type": "code",
   "execution_count": 18,
   "metadata": {},
   "outputs": [],
   "source": [
    "#gradient method \n",
    "import time\n",
    "\n",
    "#set parameters\n",
    "n_iter = 0 #number of iterations\n",
    "max_iter = 1000 #number of maximum iterations\n",
    "tol = 1e5 #initial value of tolerance\n",
    "rho = 1000\n",
    "eps = 1e-4\n",
    "\n",
    "#initialize variables\n",
    "of = 1000\n",
    "beta_init = np.zeros(nvar+1)\n",
    "of_iter = np.zeros(max_iter)\n",
    "tol_iter= np.zeros(max_iter)\n",
    "alpha_iter = np.zeros(max_iter)\n",
    "\n",
    "#initialize update rule variables\n",
    "beta = np.copy(beta_init)\n",
    "\n",
    "#algorithm\n",
    "time_start = time.process_time()\n",
    "for i in range(max_iter):\n",
    "    if tol > eps:\n",
    "        \n",
    "        #step 1. obtain descent direction\n",
    "        gradient = ridge_regression_grad_of(beta,x,y,rho)\n",
    "        d = - gradient\n",
    "        \n",
    "        #step 2. obtain step length with armijo rule\n",
    "        sigma = 1e-3\n",
    "        gamma = 0.5\n",
    "        alpha = 1\n",
    "        while (ridge_regression_of(beta + alpha * d,x,y,rho) > ridge_regression_of(beta,x,y,rho) + alpha * sigma * np.dot(gradient,d)):\n",
    "            alpha = alpha * gamma\n",
    "        \n",
    "        #step 3. step direction and length and update\n",
    "        beta = beta + alpha * d\n",
    "        \n",
    "        #step 4. tolerance\n",
    "        #tol = np.linalg.norm(gradient,ord=2)\n",
    "        of_new = ridge_regression_of(beta,x,y,rho)\n",
    "        tol = np.absolute((of_new - of)/of) \n",
    "        of = of_new \n",
    "        \n",
    "        #step 5. store data into arrays\n",
    "        of_iter[i] = of\n",
    "        tol_iter[i] = tol\n",
    "        alpha_iter[i] = alpha\n",
    "        n_iter += 1\n",
    "\n",
    "time = time.process_time() - time_start"
   ]
  },
  {
   "cell_type": "code",
   "execution_count": 19,
   "metadata": {},
   "outputs": [
    {
     "name": "stdout",
     "output_type": "stream",
     "text": [
      "RMSE of Gradient method: 1.093\n",
      "time elapsed = 59.65625\n",
      "iterations = 12\n",
      "Tolerance = 5.131270489504467e-05\n"
     ]
    }
   ],
   "source": [
    "print('RMSE of Gradient method: {:.3f}'.format(np.sqrt(np.mean((beta_a.T - beta)**2))))\n",
    "print('time elapsed =',time)\n",
    "print('iterations =',n_iter)\n",
    "print('Tolerance =',tol[0][0])"
   ]
  },
  {
   "cell_type": "code",
   "execution_count": 20,
   "metadata": {},
   "outputs": [
    {
     "name": "stderr",
     "output_type": "stream",
     "text": [
      "C:\\Users\\sesig\\Anaconda3\\lib\\site-packages\\ipykernel_launcher.py:4: RuntimeWarning: divide by zero encountered in log\n",
      "  after removing the cwd from sys.path.\n",
      "C:\\Users\\sesig\\Anaconda3\\lib\\site-packages\\ipykernel_launcher.py:8: RuntimeWarning: divide by zero encountered in log\n",
      "  \n"
     ]
    },
    {
     "data": {
      "text/plain": [
       "<Figure size 432x288 with 0 Axes>"
      ]
     },
     "execution_count": 20,
     "metadata": {},
     "output_type": "execute_result"
    },
    {
     "data": {
      "image/png": "[encoded data removed]",
      "text/plain": [
       "<Figure size 432x288 with 1 Axes>"
      ]
     },
     "metadata": {
      "needs_background": "light"
     },
     "output_type": "display_data"
    },
    {
     "data": {
      "image/png": "[encoded data removed]",
      "text/plain": [
       "<Figure size 432x288 with 1 Axes>"
      ]
     },
     "metadata": {
      "needs_background": "light"
     },
     "output_type": "display_data"
    },
    {
     "data": {
      "image/png": "[encoded data removed]",
      "text/plain": [
       "<Figure size 432x288 with 1 Axes>"
      ]
     },
     "metadata": {
      "needs_background": "light"
     },
     "output_type": "display_data"
    },
    {
     "data": {
      "text/plain": [
       "<Figure size 432x288 with 0 Axes>"
      ]
     },
     "metadata": {},
     "output_type": "display_data"
    }
   ],
   "source": [
    "import matplotlib.pyplot as plt\n",
    "%matplotlib inline\n",
    "\n",
    "plt.plot(np.log(of_iter))\n",
    "plt.xlabel('iteration')\n",
    "plt.ylabel('Log objective function')\n",
    "plt.figure()\n",
    "plt.plot(np.log(tol_iter))\n",
    "plt.xlabel('iteration')\n",
    "plt.ylabel('Log tolerance')\n",
    "plt.figure()\n",
    "plt.plot(alpha_iter)\n",
    "plt.xlabel('iteration')\n",
    "plt.ylabel('alpha = step length')\n",
    "plt.figure()"
   ]
  },
  {
   "cell_type": "code",
   "execution_count": 21,
   "metadata": {},
   "outputs": [],
   "source": [
    "#newton method \n",
    "import time\n",
    "\n",
    "#set parameters\n",
    "n_iter = 0 #number of iterations\n",
    "max_iter = 1000 #number of maximum iterations\n",
    "tol = 1e5 #initial value of tolerance\n",
    "rho = 1000\n",
    "eps = 1e-3\n",
    "\n",
    "#initialize variables\n",
    "of = 100\n",
    "beta_init = np.zeros(nvar+1)\n",
    "of_iter = np.zeros(max_iter)\n",
    "tol_iter= np.zeros(max_iter)\n",
    "alpha_iter = np.zeros(max_iter)\n",
    "\n",
    "#initialize update rule variables\n",
    "beta = np.copy(beta_init)\n",
    "\n",
    "#algorithm\n",
    "time_start = time.process_time()\n",
    "for i in range(max_iter):\n",
    "    if tol > eps:\n",
    "        \n",
    "        #step 1. obtain descent direction\n",
    "        gradient = ridge_regression_grad_of(beta,x,y,rho)\n",
    "        hessian = ridge_regression_hess_of(beta,x,y,rho)\n",
    "        d = - np.dot(np.linalg.inv(hessian),gradient)\n",
    "        \n",
    "        #step 2. obtain step length with armijo rule\n",
    "        sigma = 1e-3\n",
    "        gamma = 0.5\n",
    "        alpha = 1\n",
    "        while (ridge_regression_of(beta + alpha * d,x,y,rho) > ridge_regression_of(beta,x,y,rho) + alpha * sigma * np.dot(gradient,d)):\n",
    "            alpha = alpha * gamma\n",
    "        \n",
    "        #step 3. step direction and length and update\n",
    "        beta = beta + alpha * d\n",
    "        \n",
    "        #step 4. tolerance\n",
    "        #tol = np.linalg.norm(gradient,ord=2)\n",
    "        of_new = ridge_regression_of(beta,x,y,rho)\n",
    "        tol = np.absolute( (of_new - of)) \n",
    "        of = of_new \n",
    "        \n",
    "        #step 5. store data into arrays\n",
    "        of_iter[i] = of\n",
    "        tol_iter[i] = tol\n",
    "        alpha_iter[i] = alpha\n",
    "        n_iter += 1\n",
    "\n",
    "time = time.process_time() - time_start"
   ]
  },
  {
   "cell_type": "code",
   "execution_count": 22,
   "metadata": {},
   "outputs": [
    {
     "name": "stdout",
     "output_type": "stream",
     "text": [
      "RMSE of Newton method: 0.000\n",
      "time elapsed = 74.25\n",
      "iterations =  20\n",
      "Tolerance = 0.0006899628788232803\n"
     ]
    }
   ],
   "source": [
    "print('RMSE of Newton method: {:.3f}'.format(np.sqrt(np.mean((beta_a.T - beta)**2))))\n",
    "print('time elapsed =',time)\n",
    "print('iterations = ',n_iter)\n",
    "print('Tolerance =',tol[0][0])"
   ]
  },
  {
   "cell_type": "code",
   "execution_count": 24,
   "metadata": {},
   "outputs": [
    {
     "name": "stderr",
     "output_type": "stream",
     "text": [
      "C:\\Users\\sesig\\Anaconda3\\lib\\site-packages\\ipykernel_launcher.py:4: RuntimeWarning: divide by zero encountered in log\n",
      "  after removing the cwd from sys.path.\n",
      "C:\\Users\\sesig\\Anaconda3\\lib\\site-packages\\ipykernel_launcher.py:8: RuntimeWarning: divide by zero encountered in log\n",
      "  \n"
     ]
    },
    {
     "data": {
      "text/plain": [
       "<Figure size 432x288 with 0 Axes>"
      ]
     },
     "execution_count": 24,
     "metadata": {},
     "output_type": "execute_result"
    },
    {
     "data": {
      "image/png": "[encoded data removed]",
      "text/plain": [
       "<Figure size 432x288 with 1 Axes>"
      ]
     },
     "metadata": {
      "needs_background": "light"
     },
     "output_type": "display_data"
    },
    {
     "data": {
      "image/png": "[encoded data removed]",
      "text/plain": [
       "<Figure size 432x288 with 1 Axes>"
      ]
     },
     "metadata": {
      "needs_background": "light"
     },
     "output_type": "display_data"
    },
    {
     "data": {
      "image/png": "[encoded data removed]",
      "text/plain": [
       "<Figure size 432x288 with 1 Axes>"
      ]
     },
     "metadata": {
      "needs_background": "light"
     },
     "output_type": "display_data"
    },
    {
     "data": {
      "text/plain": [
       "<Figure size 432x288 with 0 Axes>"
      ]
     },
     "metadata": {},
     "output_type": "display_data"
    }
   ],
   "source": [
    "import matplotlib.pyplot as plt\n",
    "%matplotlib inline\n",
    "\n",
    "plt.plot(np.log(of_iter))\n",
    "plt.xlabel('iteration')\n",
    "plt.ylabel('Log objective function')\n",
    "plt.figure()\n",
    "plt.plot(np.log(tol_iter))\n",
    "plt.xlabel('iteration')\n",
    "plt.ylabel('Log tolerance')\n",
    "plt.figure()\n",
    "plt.plot(alpha_iter)\n",
    "plt.xlabel('iteration')\n",
    "plt.ylabel('alpha = step length')\n",
    "plt.figure()"
   ]
  },
  {
   "cell_type": "code",
   "execution_count": 25,
   "metadata": {
    "scrolled": true
   },
   "outputs": [],
   "source": [
    "#quasinewton method \n",
    "import time\n",
    "\n",
    "#set parameters\n",
    "n_iter = 0 #number of iterations\n",
    "max_iter = 1000 #number of maximum iterations\n",
    "tol = 1e5 #initial value of tolerance\n",
    "rho = 1000\n",
    "eps = 1e-3\n",
    "\n",
    "#initialize variables\n",
    "of = 100\n",
    "beta_init = np.zeros(nvar+1)\n",
    "of_iter = np.zeros(max_iter)\n",
    "tol_iter= np.zeros(max_iter)\n",
    "alpha_iter = np.zeros(max_iter)\n",
    "error_iter = np.zeros(max_iter)\n",
    "\n",
    "#initialize update rule variables\n",
    "b = np.eye(nvar+1)\n",
    "beta = np.copy(beta_init)\n",
    "gradient = ridge_regression_grad_of(beta,x,y,rho)\n",
    "\n",
    "#algorithm\n",
    "time_start = time.process_time()\n",
    "for i in range(max_iter):\n",
    "    if tol > eps:\n",
    "        \n",
    "        #step 1. obtain descent direction\n",
    "        d = - np.dot(b,gradient)\n",
    "        \n",
    "        #step 2. obtain step length with armijo rule\n",
    "        sigma = 1e-3\n",
    "        gamma = 0.5\n",
    "        alpha = 0.1\n",
    "        while (ridge_regression_of(beta + alpha * d,x,y,rho) > ridge_regression_of(beta,x,y,rho) + alpha * sigma * np.dot(gradient,d)):\n",
    "            alpha = alpha * gamma\n",
    "        \n",
    "        #step 3. step direction and length and update\n",
    "        s = alpha * d\n",
    "        beta_new = beta + s\n",
    "        \n",
    "        #step 4. difference in gradients\n",
    "        gradient_new = ridge_regression_grad_of(beta_new,x,y,rho)\n",
    "        r = gradient_new - gradient\n",
    "        \n",
    "        #step 5. update the inverse of the hessian matrix b\n",
    "        aux1 = np.dot(s.T,r)\n",
    "        aux2 = ( aux1 + np.dot(np.dot(r.T,b),r) ) * np.outer(s,s.T) / aux1**2\n",
    "        np.outer(np.dot(b,r),s.T)\n",
    "        aux3 = ( np.outer(np.dot(b,r),s.T) + np.dot(np.outer(s,r.T),b)) / aux1  \n",
    "        b_new = b + aux2 - aux3\n",
    "        b = np.copy(b_new)\n",
    "        beta = np.copy(beta_new)\n",
    "        gradient = np.copy(gradient_new)\n",
    "        \n",
    "        #step 6. tolerance\n",
    "        of_new = ridge_regression_of(beta,x,y,rho)\n",
    "        tol = np.absolute(of_new - of) \n",
    "        of = of_new \n",
    "        \n",
    "        #step 7. stored data in arrays\n",
    "        of_iter[i] = of\n",
    "        tol_iter[i] = tol\n",
    "        alpha_iter[i] = alpha\n",
    "        error_iter[i] = np.linalg.norm(beta_a - beta, ord = 2) / np.linalg.norm(beta_a, ord = 2)\n",
    "        n_iter += 1\n",
    "\n",
    "time = time.process_time() - time_start"
   ]
  },
  {
   "cell_type": "code",
   "execution_count": 26,
   "metadata": {},
   "outputs": [
    {
     "name": "stdout",
     "output_type": "stream",
     "text": [
      "RMSE of Quasi-Newton BFGS method: 0.000\n",
      "time elapsed = 380.015625\n",
      "iterations =  100\n",
      "Tolerance = 0.00021961773745715618\n"
     ]
    }
   ],
   "source": [
    "print('RMSE of Quasi-Newton BFGS method: {:.3f}'.format(np.sqrt(np.mean((beta_a.T - beta)**2))))\n",
    "print('time elapsed =',time)\n",
    "print('iterations = ',n_iter)\n",
    "print('Tolerance =',tol[0][0])"
   ]
  },
  {
   "cell_type": "code",
   "execution_count": 27,
   "metadata": {},
   "outputs": [
    {
     "name": "stderr",
     "output_type": "stream",
     "text": [
      "C:\\Users\\sesig\\Anaconda3\\lib\\site-packages\\ipykernel_launcher.py:4: RuntimeWarning: divide by zero encountered in log\n",
      "  after removing the cwd from sys.path.\n",
      "C:\\Users\\sesig\\Anaconda3\\lib\\site-packages\\ipykernel_launcher.py:8: RuntimeWarning: divide by zero encountered in log\n",
      "  \n"
     ]
    },
    {
     "data": {
      "text/plain": [
       "Text(0,0.5,'Alpha = step length')"
      ]
     },
     "execution_count": 27,
     "metadata": {},
     "output_type": "execute_result"
    },
    {
     "data": {
      "image/png": "[encoded data removed]",
      "text/plain": [
       "<Figure size 432x288 with 1 Axes>"
      ]
     },
     "metadata": {
      "needs_background": "light"
     },
     "output_type": "display_data"
    },
    {
     "data": {
      "image/png": "[encoded data removed]",
      "text/plain": [
       "<Figure size 432x288 with 1 Axes>"
      ]
     },
     "metadata": {
      "needs_background": "light"
     },
     "output_type": "display_data"
    },
    {
     "data": {
      "image/png": "[encoded data removed]",
      "text/plain": [
       "<Figure size 432x288 with 1 Axes>"
      ]
     },
     "metadata": {
      "needs_background": "light"
     },
     "output_type": "display_data"
    }
   ],
   "source": [
    "import matplotlib.pyplot as plt\n",
    "%matplotlib inline\n",
    "\n",
    "plt.plot(np.log(of_iter))\n",
    "plt.xlabel('iteration')\n",
    "plt.ylabel('Log objective function')\n",
    "plt.figure()\n",
    "plt.plot(np.log(error_iter))\n",
    "plt.xlabel('iteration')\n",
    "plt.ylabel('Error')\n",
    "plt.figure()\n",
    "plt.plot(alpha_iter[:n_iter-1])\n",
    "plt.xlabel('iteration')\n",
    "plt.ylabel('Alpha = step length')"
   ]
  },
  {
   "cell_type": "markdown",
   "metadata": {},
   "source": [
    "First let's compare the time performance of each algorithm. Gradient method is the fastest one, then it is followed by Newton method and the slowest one is Quasi-newton. In practice, Quasi-Newton should be faster but maybe the implementation can be optimize so it outperforms Newton method. Regarding the number of iteration, Quasi-Newton method carried out 100 iterations, Newton method 20 iterations and Gradient method 12 iterations. The stopping criteria and the tolerance are important in this aspect as they determine how many interactions an method is going to need before convergence is achieved. Measuring RMSE as we in the previous part we have that RMSE of the Gradient method is 1, 0 for Newton method and 0 for Quasi-Newton method. This difference is due to the stopping criteria we have chosen and the tolerance. Since the gradient method uses a linear approximation of the function it is expected to converge slower than Newton and Quasi-Newton. The plots below each algorithm represent the value of the objective function at each iteration, the value of the tolerance and the value of $\\alpha$ (steplength) respectively. To conclude and with this setting and implementation, we can say that Newton method is a good choice."
   ]
  },
  {
   "cell_type": "markdown",
   "metadata": {},
   "source": [
    "### Part e\n",
    "\n",
    "This part contains the implementation of Coordinate descent, Stochastic Gradient, Mini Batch gradient and Stochastic Gradient with momentum. Since these methods require us to set more parameters and it is difficult to test each algorithm under such a large data set, I am finding difficulties to find the perfect value for parameters and each evaluation takes too long. For example, the coordinate descent algorithm uploaded at Aula Global took more than one minute to run with a data set of only 10 variables and 1000 observations. For that reason, and to be able to compare the results, we will create the a new data set of 10 variables and 500 observations. The regularization parameter is now set to 1. In this algorithms the stopping criteria is a key step, and some of them can not use the classic one of computing the gradient and checking its deviation from 0. For example, Stochastic Gradient uses only one observation drawn randomly from the sample, so the gradient will behave erratically with the interactions. Thus, it may not be a good stopping criteria. In the results we will comment the stopping criteria used for each algorithm. Let's start with Coordinate Descent:"
   ]
  },
  {
   "cell_type": "code",
   "execution_count": 28,
   "metadata": {},
   "outputs": [],
   "source": [
    "#Coordinate descent method \n",
    "\n",
    "#number of observation and variables\n",
    "nvar = 10\n",
    "nobs = 500\n",
    "\n",
    "#set seed for reproducibility purposes\n",
    "np.random.seed(1)\n",
    "\n",
    "#generates dataset\n",
    "x0 = np.ones((nobs,1))\n",
    "x1 = np.random.uniform(low=0, high=10, size=(nobs,nvar))\n",
    "x = np.concatenate((x0,x1), axis=1)\n",
    "beta = np.random.uniform(low=-2, high=2, size=(nvar+1,1))\n",
    "eps = np.random.normal(loc=0, scale=1, size=(nobs,1))\n",
    "y = np.dot(x,beta) + eps\n",
    "\n",
    "rho = 1\n",
    "\n",
    "beta_a = np.dot( np.dot( np.linalg.inv( np.dot(x.T,x) + rho*np.eye(nvar+1)), x.T), y)\n",
    "\n",
    "import time\n",
    "\n",
    "#define gradient (more efficient to multiply by a vector than a matrix)\n",
    "def ridge_regression_grad_of_dd(beta,x,y,rho,index):\n",
    "    beta = np.reshape(beta, newshape=(len(beta),1))\n",
    "    grad_index = -2. * np.dot( (y - np.dot(x,beta)).T, x[:,index]) + 2. * rho * beta[index] #avoids computing the hole matrix x and just uses one column\n",
    "    grad = np.zeros((len(beta),1))\n",
    "    grad[index] = grad_index\n",
    "    return np.squeeze(grad)\n",
    "\n",
    "#set parameters\n",
    "n_iter = 0 #number of iterations\n",
    "max_iter = 1000000 #number of maximum iterations\n",
    "tol = 1e5 #initial value of tolerance\n",
    "eps = 1e-8\n",
    "alpha = 1e-5\n",
    "x_shape = np.shape(x)\n",
    "a = x_shape[0]\n",
    "b = x_shape[1]\n",
    "\n",
    "#initialize variables\n",
    "of = 100\n",
    "beta_init = np.zeros(nvar+1)\n",
    "of_iter = np.zeros(max_iter)\n",
    "tol_iter= np.zeros(max_iter)\n",
    "alpha_iter = np.zeros(max_iter)\n",
    "error_iter = np.zeros(max_iter)\n",
    "\n",
    "#initialize update rule variables\n",
    "beta = np.copy(beta_init)\n",
    "\n",
    "#algorithm\n",
    "time_start = time.process_time()\n",
    "for i in range(max_iter):\n",
    "    if tol > eps:\n",
    "    \n",
    "        #step 1. select at random which coefficient is going to be updated and compute the gradient\n",
    "        k = np.random.randint(b)\n",
    "        gradient = ridge_regression_grad_of_dd(beta,x,y,rho,k)\n",
    "\n",
    "        #step 2. compute descent direction and update coefficients\n",
    "        d = - gradient\n",
    "        beta = beta + alpha * d\n",
    "\n",
    "        #step 3. stopping criteria\n",
    "        of_new = ridge_regression_of(beta,x,y,rho)\n",
    "        # tol = np.absolute( (of_new - of) / of) \n",
    "        tol = np.linalg.norm(gradient, ord=2)\n",
    "        of = of_new \n",
    "\n",
    "        #step 4. store results\n",
    "        of_iter[i] = of\n",
    "        tol_iter[i] = tol\n",
    "        error_iter[i] = np.linalg.norm(beta_a - beta, ord = 2) / np.linalg.norm(beta_a, ord = 2)\n",
    "        n_iter += 1\n",
    "\n",
    "time = time.process_time() - time_start"
   ]
  },
  {
   "cell_type": "markdown",
   "metadata": {},
   "source": [
    "The maximum number of iterations is set to one million, the step length to $\\alpha = 10^{-5}$ and the tolerance to $\\epsilon = 10^{-8}$. Since we are updating the gradient in one direction at each iteration, we can use it as a stopping criteria because when it is close to zero then the coefficient of each direction has been optimized. Under this setting the algorithm took 76 seconds and almost 300.000 iterations. Optimizing only one direction each iteration makes the algorithm to require a lot of iterations. However it converge quickly given the tolerance we have set. At the end we have that the RMSE is 0 so the algorithm has converge and coefficients match with the analytical values. I have also tried with less restricted values for the tolerance as $\\epsilon = 10^{-3}$ and it converges really quickly, around just 1 second. However the RMSE was around 0.2 which is significantly different than the analytical solution."
   ]
  },
  {
   "cell_type": "code",
   "execution_count": 29,
   "metadata": {},
   "outputs": [
    {
     "name": "stdout",
     "output_type": "stream",
     "text": [
      "RMSE of Coordinate Descent method: 0.000\n",
      "time elapsed = 52.90625\n",
      "iterations =  278685\n",
      "Tolerance = 3.0735081146815446e-09\n"
     ]
    }
   ],
   "source": [
    "print('RMSE of Coordinate Descent method: {:.3f}'.format(np.sqrt(np.mean((beta_a.T - beta)**2))))\n",
    "print('time elapsed =',time)\n",
    "print('iterations = ',n_iter)\n",
    "print('Tolerance =',tol)"
   ]
  },
  {
   "cell_type": "markdown",
   "metadata": {},
   "source": [
    "The first plot below shows the log of the objective function at each iteration. There is a big drop at the beggining and then it remains more or less constant. That means that the algorithm has given big steps at the beggining and then it slows down the convergence. To see that easily, the second plot contains just the first 1000 iterations and it is now clear the progression. Finally, the third plot shows the error of the last 100 iterations and how the coefficients converge to the analytical value."
   ]
  },
  {
   "cell_type": "code",
   "execution_count": 30,
   "metadata": {},
   "outputs": [
    {
     "name": "stderr",
     "output_type": "stream",
     "text": [
      "C:\\Users\\sesig\\Anaconda3\\lib\\site-packages\\ipykernel_launcher.py:4: RuntimeWarning: divide by zero encountered in log\n",
      "  after removing the cwd from sys.path.\n"
     ]
    },
    {
     "data": {
      "text/plain": [
       "<Figure size 432x288 with 0 Axes>"
      ]
     },
     "execution_count": 30,
     "metadata": {},
     "output_type": "execute_result"
    },
    {
     "data": {
      "image/png": "[encoded data removed]",
      "text/plain": [
       "<Figure size 432x288 with 1 Axes>"
      ]
     },
     "metadata": {
      "needs_background": "light"
     },
     "output_type": "display_data"
    },
    {
     "data": {
      "image/png": "[encoded data removed]",
      "text/plain": [
       "<Figure size 432x288 with 1 Axes>"
      ]
     },
     "metadata": {
      "needs_background": "light"
     },
     "output_type": "display_data"
    },
    {
     "data": {
      "image/png": "[encoded data removed]",
      "text/plain": [
       "<Figure size 432x288 with 1 Axes>"
      ]
     },
     "metadata": {
      "needs_background": "light"
     },
     "output_type": "display_data"
    },
    {
     "data": {
      "text/plain": [
       "<Figure size 432x288 with 0 Axes>"
      ]
     },
     "metadata": {},
     "output_type": "display_data"
    }
   ],
   "source": [
    "import matplotlib.pyplot as plt\n",
    "%matplotlib inline\n",
    "\n",
    "plt.plot(np.log(of_iter))\n",
    "plt.xlabel('iteration')\n",
    "plt.ylabel('Log objective function')\n",
    "plt.figure()\n",
    "plt.plot(np.log(of_iter[:1000]))\n",
    "plt.xlabel('iteration')\n",
    "plt.ylabel('Log objective function')\n",
    "plt.figure()\n",
    "plt.plot(error_iter[n_iter-100:n_iter-1])\n",
    "plt.xlabel('iteration')\n",
    "plt.ylabel('Error')\n",
    "plt.figure()"
   ]
  },
  {
   "cell_type": "markdown",
   "metadata": {},
   "source": [
    "The next step is to code Stochastic gradient. At each iteration it only uses one observation of the hole data set to compute the gradient. Thus, we have to modify the gradient function because now the response is a scalar instead of a vector and the observation matrix is a vector instead of a matrix."
   ]
  },
  {
   "cell_type": "code",
   "execution_count": 31,
   "metadata": {
    "tags": [
     "outputPrepend"
    ]
   },
   "outputs": [],
   "source": [
    "#Stochastic gradient \n",
    "\n",
    "#gradient of the objective function. ridge regression\n",
    "def ridge_regression_grad_of_sg(beta,x,y,rho):\n",
    "    grad = -2. *  (y - np.dot(x,beta)) * x + 2. * rho * beta\n",
    "    return np.squeeze(grad)\n",
    "\n",
    "#number of observation and variables\n",
    "nvar = 10\n",
    "nobs = 500\n",
    "\n",
    "#set seed for reproducibility purposes\n",
    "np.random.seed(1)\n",
    "\n",
    "#generates dataset\n",
    "x0 = np.ones((nobs,1))\n",
    "x1 = np.random.uniform(low=0, high=10, size=(nobs,nvar))\n",
    "x = np.concatenate((x0,x1), axis=1)\n",
    "beta = np.random.uniform(low=-2, high=2, size=(nvar+1,1))\n",
    "eps = np.random.normal(loc=0, scale=1, size=(nobs,1))\n",
    "y = np.dot(x,beta) + eps\n",
    "\n",
    "rho = 1\n",
    "\n",
    "beta_a = np.dot( np.dot( np.linalg.inv( np.dot(x.T,x) + rho*np.eye(nvar+1)), x.T), y)\n",
    "\n",
    "import time\n",
    "\n",
    "#set parameters\n",
    "n_iter = 0 #number of iterations\n",
    "max_iter = 100000 #number of maximum iterations\n",
    "tol = 1e5 #initial value of tolerance\n",
    "eps = 1e-8\n",
    "alpha = 1e-5\n",
    "x_shape = np.shape(x)\n",
    "a = x_shape[0]\n",
    "b = x_shape[1]\n",
    "\n",
    "#initialize variables\n",
    "of = 100\n",
    "beta_init = np.zeros(nvar+1)\n",
    "of_iter = np.zeros(max_iter)\n",
    "tol_iter= np.zeros(max_iter)\n",
    "alpha_iter = np.zeros(max_iter)\n",
    "error_iter = np.zeros(max_iter)\n",
    "\n",
    "#initialize update rule variables\n",
    "beta_new = np.copy(beta_init)\n",
    "beta = np.copy(beta_init)\n",
    "beta[:] = 1000\n",
    "\n",
    "#algorithm\n",
    "time_start = time.process_time()\n",
    "for i in range(max_iter):\n",
    "    if tol > eps:\n",
    "    \n",
    "        #step 1. select at random sample is going to be used to compute the gradient\n",
    "        k = np.random.randint(a)\n",
    "        gradient_new = ridge_regression_grad_of_sg(beta_new,x[k,:],y[k],rho)\n",
    "\n",
    "        #step 2. compute descent direction and update coefficients\n",
    "        d = - gradient_new\n",
    "        beta_new = beta_new + alpha * d\n",
    "\n",
    "        #step 3. stopping criteria\n",
    "        of_new = ridge_regression_of(beta,x,y,rho)\n",
    "        tol = np.abs(of_new - of)\n",
    "        of = of_new\n",
    "        beta = np.copy(beta_new)\n",
    "\n",
    "        #step 4. store results\n",
    "        of_iter[i] = ridge_regression_of(beta,x,y,rho)\n",
    "        tol_iter[i] = tol\n",
    "        error_iter[i] = np.linalg.norm(beta_a - beta, ord = 2) / np.linalg.norm(beta_a, ord = 2)\n",
    "        n_iter += 1\n",
    "\n",
    "time = time.process_time() - time_start"
   ]
  },
  {
   "cell_type": "markdown",
   "metadata": {},
   "source": [
    "Now the maximum number of iterations is set to 100.000. The step length is $\\alpha = 0.5$ and the tolerance for the stopping criteria is $\\epsilon = 10^{-8}$. The stopping criteria is a bit tricky in this case because the gradient uses just one observation, which implies variance is large. Then using it as the stopping method could lead to a not perfectly optimized solution. Thus, in this case we set it as change in the value of the objective function. However, looking below at the summary we can see that the execution took 100.000 iterations which is the maximum. This is due to having set $\\epsilon = 10^{-8}$ because at each iteration the coefficients are updated with just one observation, so at the end the change in the objective function is larger than $\\epsilon$. The RMSE is 0.223 so it has not achieved the analytical solution. Finally, it took 23 seconds so it has been faster than Coordinate Descent, although the solution is poorer."
   ]
  },
  {
   "cell_type": "code",
   "execution_count": 32,
   "metadata": {},
   "outputs": [
    {
     "name": "stdout",
     "output_type": "stream",
     "text": [
      "RMSE of Stochastic Gradient Descent method: 0.223\n",
      "time elapsed = 21.703125\n",
      "iterations =  100000\n",
      "Tolerance = 1.0487265409515203\n"
     ]
    }
   ],
   "source": [
    "print('RMSE of Stochastic Gradient Descent method: {:.3f}'.format(np.sqrt(np.mean((beta_a.T - beta)**2))))\n",
    "print('time elapsed =',time)\n",
    "print('iterations = ',n_iter)\n",
    "print('Tolerance =',tol[0][0])"
   ]
  },
  {
   "cell_type": "markdown",
   "metadata": {},
   "source": [
    "Below, the first plot contains the convergence of the objective function. It can be seen an erratic behaviour and it the it oscillates around some value close to 7.5. This is because of the gradient being computed with just one observation inducing variability at each iteration. The second plot shows the error of the last 100 iterations and the same analysis can be done."
   ]
  },
  {
   "cell_type": "code",
   "execution_count": 33,
   "metadata": {},
   "outputs": [
    {
     "data": {
      "text/plain": [
       "Text(0,0.5,'Error')"
      ]
     },
     "execution_count": 33,
     "metadata": {},
     "output_type": "execute_result"
    },
    {
     "data": {
      "image/png": "[encoded data removed]",
      "text/plain": [
       "<Figure size 432x288 with 1 Axes>"
      ]
     },
     "metadata": {
      "needs_background": "light"
     },
     "output_type": "display_data"
    },
    {
     "data": {
      "image/png": "[encoded data removed]",
      "text/plain": [
       "<Figure size 432x288 with 1 Axes>"
      ]
     },
     "metadata": {
      "needs_background": "light"
     },
     "output_type": "display_data"
    }
   ],
   "source": [
    "import matplotlib.pyplot as plt\n",
    "%matplotlib inline\n",
    "\n",
    "plt.plot(np.log(of_iter))\n",
    "plt.figure()\n",
    "plt.xlabel('iteration')\n",
    "plt.ylabel('Log objective function')\n",
    "plt.plot(error_iter[n_iter-100:n_iter-1])\n",
    "plt.plot()\n",
    "plt.xlabel('iteration')\n",
    "plt.ylabel('Error')"
   ]
  },
  {
   "cell_type": "markdown",
   "metadata": {},
   "source": [
    "The next algorithm is Batch Gradient. It is similar to Stochastic gradient, but at each iteration k observations are selected at random and k gradients are computed from them. Then, the gradient is computed as the average of the gradients. It reduces the variability introduced by Stochastic gradient but computionally is more expensive."
   ]
  },
  {
   "cell_type": "code",
   "execution_count": 34,
   "metadata": {},
   "outputs": [
    {
     "name": "stdout",
     "output_type": "stream",
     "text": [
      "finish run\n"
     ]
    }
   ],
   "source": [
    "#Mini batch gradient descent\n",
    "\n",
    "#gradient of the objective function. ridge regression\n",
    "def ridge_regression_grad_of_sg(beta,x,y,rho):\n",
    "    grad = -2. *  (y - np.dot(x,beta)) * x + 2. * rho * beta\n",
    "    return np.squeeze(grad)\n",
    "\n",
    "#number of observation and variables\n",
    "nvar = 10\n",
    "nobs = 500\n",
    "\n",
    "#set seed for reproducibility purposes\n",
    "np.random.seed(1)\n",
    "\n",
    "#generates dataset\n",
    "x0 = np.ones((nobs,1))\n",
    "x1 = np.random.uniform(low=0, high=10, size=(nobs,nvar))\n",
    "x = np.concatenate((x0,x1), axis=1)\n",
    "beta = np.random.uniform(low=-2, high=2, size=(nvar+1,1))\n",
    "eps = np.random.normal(loc=0, scale=1, size=(nobs,1))\n",
    "y = np.dot(x,beta) + eps\n",
    "\n",
    "rho = 1\n",
    "\n",
    "beta_a = np.dot( np.dot( np.linalg.inv( np.dot(x.T,x) + rho*np.eye(nvar+1)), x.T), y)\n",
    "\n",
    "import time\n",
    "\n",
    "#set parameters\n",
    "n_iter = 0 #number of iterations\n",
    "max_iter = 100000 #number of maximum iterations\n",
    "tol = 1e5 #initial value of tolerance\n",
    "rho = 1\n",
    "eps = 1e-5\n",
    "alpha = 1e-5\n",
    "x_shape = np.shape(x)\n",
    "a = x_shape[0]\n",
    "b = x_shape[1]\n",
    "batch = 10\n",
    "\n",
    "#initialize variables\n",
    "of = 100\n",
    "beta_init = np.zeros(nvar+1)\n",
    "of_iter = np.zeros(max_iter)\n",
    "tol_iter= np.zeros(max_iter)\n",
    "alpha_iter = np.zeros(max_iter)\n",
    "error_iter = np.zeros(max_iter)\n",
    "gradient = np.zeros(nvar+1)\n",
    "\n",
    "#initialize update rule variables\n",
    "beta = np.copy(beta_init)\n",
    "\n",
    "#algorithm\n",
    "time_start = time.process_time()\n",
    "for i in range(max_iter):\n",
    "    if tol > eps:\n",
    "    \n",
    "        #step 1. select at random which samples are chosen to compute the gradient\n",
    "        k = np.random.randint(b, size=batch)\n",
    "        gradient[:] = 0\n",
    "        for j in k:\n",
    "            gradient += ridge_regression_grad_of_sg(beta,x[j,:],y[j],rho)\n",
    "        gradient /= batch\n",
    "\n",
    "        #step 2. compute descent direction and update coefficients\n",
    "        d = - gradient\n",
    "        beta = beta + alpha * d\n",
    "\n",
    "        #step 3. stopping criteria\n",
    "        of_new = ridge_regression_of(beta,x,y,rho)\n",
    "        tol = np.absolute(of_new - of)\n",
    "        of = of_new \n",
    "\n",
    "        #step 4. store results\n",
    "        of_iter[i] = of\n",
    "        tol_iter[i] = tol\n",
    "        error_iter[i] = np.linalg.norm(beta_a - beta, ord = 2) / np.linalg.norm(beta_a, ord = 2)\n",
    "        n_iter += 1\n",
    "\n",
    "time = time.process_time() - time_start\n",
    "print('finish run')"
   ]
  },
  {
   "cell_type": "markdown",
   "metadata": {},
   "source": [
    "As explained before, using just some observations makes the gradient to have a large variability depending on the observation selected. Then it is a bad idea to use the gradient as the stopping criteria. In this case we use the change in the value of the objective function. The number of maximum iterations is set to 100.000 and it has achieve that value. This again is because of the variability at each iteration, which makes the objective function to oscillate at the end around 9.5 as we can see in the plot below. Unexpectedly, we get a large RMSE of the coefficients with a value of 0.543. I tried to modify the parameters but it did not result in a better performance. In terms of efficiency, it is obviously a bit slower than SG because of the inner loop included. The sample size of each iteration is stored at the varibale *batch* and the value is 10. Therefore, given that there have been 100.000 iterations, the number of calls to the gradient function is 100.000 x 10 which is 1 million, compared to only 100.000 call in SG."
   ]
  },
  {
   "cell_type": "code",
   "execution_count": 35,
   "metadata": {},
   "outputs": [
    {
     "name": "stdout",
     "output_type": "stream",
     "text": [
      "RMSE of Mini Batch Gradient Descent method: 0.543\n",
      "time elapsed = 31.859375\n",
      "iterations =  100000\n",
      "Tolerance = 1.694114962079766\n"
     ]
    }
   ],
   "source": [
    "print('RMSE of Mini Batch Gradient Descent method: {:.3f}'.format(np.sqrt(np.mean((beta_a.T - beta)**2))))\n",
    "print('time elapsed =',time)\n",
    "print('iterations = ',n_iter)\n",
    "print('Tolerance =',tol[0][0])"
   ]
  },
  {
   "cell_type": "markdown",
   "metadata": {},
   "source": [
    "The plots below shows the value of the objective function with each iteration and the value of the error in the last 100 iterations, which does not decrease nor increase having an oscillatory pattern."
   ]
  },
  {
   "cell_type": "code",
   "execution_count": 36,
   "metadata": {},
   "outputs": [
    {
     "data": {
      "text/plain": [
       "<Figure size 432x288 with 0 Axes>"
      ]
     },
     "execution_count": 36,
     "metadata": {},
     "output_type": "execute_result"
    },
    {
     "data": {
      "image/png": "[encoded data removed]",
      "text/plain": [
       "<Figure size 432x288 with 1 Axes>"
      ]
     },
     "metadata": {
      "needs_background": "light"
     },
     "output_type": "display_data"
    },
    {
     "data": {
      "image/png": "[encoded data removed]",
      "text/plain": [
       "<Figure size 432x288 with 1 Axes>"
      ]
     },
     "metadata": {
      "needs_background": "light"
     },
     "output_type": "display_data"
    },
    {
     "data": {
      "text/plain": [
       "<Figure size 432x288 with 0 Axes>"
      ]
     },
     "metadata": {},
     "output_type": "display_data"
    }
   ],
   "source": [
    "import matplotlib.pyplot as plt\n",
    "%matplotlib inline\n",
    "\n",
    "plt.plot(np.log(of_iter))\n",
    "plt.xlabel('iteration')\n",
    "plt.ylabel('Log objective function')\n",
    "plt.figure()\n",
    "plt.plot(error_iter[n_iter-100:n_iter-1])\n",
    "plt.xlabel('iteration')\n",
    "plt.ylabel('Error')\n",
    "plt.figure()"
   ]
  },
  {
   "cell_type": "markdown",
   "metadata": {},
   "source": [
    "Finally, SG is modified adding the momentum term to the computation of the new coefficients in the updating step. This adds a new parameter, called gamma in the code and set to $\\gamma = 10^{-3}$. As in the previous cases, the gradient is not a good stopping criteria so the difference in the objective function after each iteration is chosen."
   ]
  },
  {
   "cell_type": "code",
   "execution_count": 37,
   "metadata": {},
   "outputs": [],
   "source": [
    "#Mini batch sgd with momentum\n",
    "\n",
    "#gradient of the objective function. ridge regression\n",
    "def ridge_regression_grad_of_sg(beta,x,y,rho):\n",
    "    grad = - 2. *  (y - np.dot(x,beta)) * x + 2. * rho * beta\n",
    "    return np.squeeze(grad)\n",
    "\n",
    "#number of observation and variables\n",
    "nvar = 10\n",
    "nobs = 500\n",
    "\n",
    "#set seed for reproducibility purposes\n",
    "np.random.seed(1)\n",
    "\n",
    "#generates dataset\n",
    "x0 = np.ones((nobs,1))\n",
    "x1 = np.random.uniform(low=0, high=10, size=(nobs,nvar))\n",
    "x = np.concatenate((x0,x1), axis=1)\n",
    "beta = np.random.uniform(low=-2, high=2, size=(nvar+1,1))\n",
    "eps = np.random.normal(loc=0, scale=1, size=(nobs,1))\n",
    "y = np.dot(x,beta) + eps\n",
    "\n",
    "rho = 1\n",
    "\n",
    "beta_a = np.dot( np.dot( np.linalg.inv( np.dot(x.T,x) + rho*np.eye(nvar+1)), x.T), y)\n",
    "\n",
    "import time\n",
    "\n",
    "#set parameters\n",
    "n_iter = 0 #number of iterations\n",
    "max_iter = 100000 #number of maximum iterations\n",
    "tol = 1e5 #initial value of tolerance\n",
    "eps = 1e-6\n",
    "alpha = 1e-5\n",
    "gamma = 1e-3\n",
    "x_shape = np.shape(x)\n",
    "a = x_shape[0]\n",
    "b = x_shape[1]\n",
    "\n",
    "#initialize variables\n",
    "of = 100\n",
    "beta_init = np.zeros(nvar+1)\n",
    "of_iter = np.zeros(max_iter)\n",
    "tol_iter= np.zeros(max_iter)\n",
    "alpha_iter = np.zeros(max_iter)\n",
    "error_iter = np.zeros(max_iter)\n",
    "\n",
    "#initialize update rule variables\n",
    "beta_new = np.copy(beta_init)\n",
    "beta = np.zeros(nvar+1)\n",
    "beta_old = np.zeros(nvar+1)\n",
    "\n",
    "#algorithm\n",
    "time_start = time.process_time()\n",
    "for i in range(max_iter):\n",
    "    if tol > eps:\n",
    "    \n",
    "        #step 1. select at random sample is going to be used to compute the gradient\n",
    "        k = np.random.randint(a)\n",
    "        gradient_new = ridge_regression_grad_of_sg(beta,x[k,:],y[k],rho)\n",
    "\n",
    "        #step 2. compute descent direction and update coefficients\n",
    "        d = - gradient_new\n",
    "        beta_new = beta + alpha * d + gamma * (beta - beta_old)\n",
    "\n",
    "        #step 3. stopping criteria\n",
    "        of_new = ridge_regression_of(beta,x,y,rho)\n",
    "        tol = np.abs(of_new - of)\n",
    "        of = of_new\n",
    "        beta_old[:] = beta[:]\n",
    "        beta[:] = beta_new[:]\n",
    "\n",
    "        #step 4. store results\n",
    "        of_iter[i] = ridge_regression_of(beta,x,y,rho)\n",
    "        tol_iter[i] = tol\n",
    "        error_iter[i] = np.linalg.norm(beta_a - beta, ord = 2) / np.linalg.norm(beta_a, ord = 2)\n",
    "        n_iter += 1\n",
    "\n",
    "time = time.process_time() - time_start"
   ]
  },
  {
   "cell_type": "markdown",
   "metadata": {},
   "source": [
    "The number of iterations has been set again to 100.000 and the execution finished because it reached that number of iterations. Since the gradient is computed as in SG, the erratic pattern is found again and the conclusion drawn are the same as in the previous case. It took less time that Mini Batch but more time than SG, as it is expected because it has more operations per iteration than SG but less than Mini Batch. The number of gradient evaluations is 100.000, one per iteration. Looking at the RMSE we can see that it has not converged to the analytical value as it happened with SG."
   ]
  },
  {
   "cell_type": "code",
   "execution_count": 38,
   "metadata": {},
   "outputs": [
    {
     "name": "stdout",
     "output_type": "stream",
     "text": [
      "RMSE of SDG with momentum: 0.223\n",
      "time elapsed = 19.8125\n",
      "iterations =  100000\n",
      "Tolerance = 1.0500377031471544\n"
     ]
    }
   ],
   "source": [
    "print('RMSE of SDG with momentum: {:.3f}'.format(np.sqrt(np.mean((beta_a.T - beta)**2))))\n",
    "print('time elapsed =',time)\n",
    "print('iterations = ',n_iter)\n",
    "print('Tolerance =',tol[0][0])"
   ]
  },
  {
   "cell_type": "markdown",
   "metadata": {},
   "source": [
    "To finish, the next two plots show the Log of the objective function value at each iteration and the error at the last 500 iterations. The erratic behaviour can be observed over all the graph."
   ]
  },
  {
   "cell_type": "code",
   "execution_count": 39,
   "metadata": {},
   "outputs": [
    {
     "data": {
      "text/plain": [
       "<Figure size 432x288 with 0 Axes>"
      ]
     },
     "execution_count": 39,
     "metadata": {},
     "output_type": "execute_result"
    },
    {
     "data": {
      "image/png": "[encoded data removed]",
      "text/plain": [
       "<Figure size 432x288 with 1 Axes>"
      ]
     },
     "metadata": {
      "needs_background": "light"
     },
     "output_type": "display_data"
    },
    {
     "data": {
      "image/png": "[encoded data removed]",
      "text/plain": [
       "<Figure size 432x288 with 1 Axes>"
      ]
     },
     "metadata": {
      "needs_background": "light"
     },
     "output_type": "display_data"
    },
    {
     "data": {
      "text/plain": [
       "<Figure size 432x288 with 0 Axes>"
      ]
     },
     "metadata": {},
     "output_type": "display_data"
    }
   ],
   "source": [
    "import matplotlib.pyplot as plt\n",
    "%matplotlib inline\n",
    "\n",
    "plt.plot(np.log(of_iter))\n",
    "plt.xlabel('iteration')\n",
    "plt.ylabel('Log objective function')\n",
    "plt.figure()\n",
    "plt.plot(np.log(of_iter[n_iter-500:n_iter-1]))\n",
    "plt.xlabel('iteration')\n",
    "plt.ylabel('Error')\n",
    "plt.figure()"
   ]
  }
 ],
 "metadata": {
  "kernelspec": {
   "display_name": "Python 3",
   "language": "python",
   "name": "python3"
  },
  "language_info": {
   "codemirror_mode": {
    "name": "ipython",
    "version": 3
   },
   "file_extension": ".py",
   "mimetype": "text/x-python",
   "name": "python",
   "nbconvert_exporter": "python",
   "pygments_lexer": "ipython3",
   "version": "3.7.0"
  }
 },
 "nbformat": 4,
 "nbformat_minor": 2
}
